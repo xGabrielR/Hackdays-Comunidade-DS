{
 "cells": [
  {
   "cell_type": "code",
   "execution_count": 35,
   "id": "d021b4e5",
   "metadata": {},
   "outputs": [],
   "source": [
    "# using CSV\n",
    "# using PyCall\n",
    "# using Printf\n",
    "# using PyPlot\n",
    "# using DataFrames\n",
    "\n",
    "# pd = pyimport(\"pandas\");"
   ]
  },
  {
   "cell_type": "code",
   "execution_count": null,
   "id": "0993c880",
   "metadata": {},
   "outputs": [],
   "source": [
    "import pickle\n",
    "import warnings\n",
    "import pandas as pd\n",
    "import seaborn as sns\n",
    "import matplotlib.pyplot as plt\n",
    "\n",
    "from scipy import stats as ss\n",
    "\n",
    "import sweetviz as sv\n",
    "\n",
    "from sklearn.manifold import TSNE\n",
    "from sklearn.decomposition import PCA\n",
    "from imblearn.combine import SMOTEENN, SMOTETomek \n",
    "from umap.umap_ import UMAP\n",
    "\n",
    "from sklearn.preprocessing import MinMaxScaler\n",
    "from sklearn.model_selection import train_test_split\n",
    "from sklearn.compose import make_column_transformer\n",
    "from sklearn.pipeline import make_pipeline\n",
    "\n",
    "from sklearn.svm import SVC\n",
    "from xgboost import XGBClassifier\n",
    "from sklearn.cluster import KMeans\n",
    "from sklearn.linear_model import SGDClassifier\n",
    "from sklearn.ensemble import ExtraTreesClassifier, RandomForestClassifier\n",
    "from imblearn.ensemble import BalancedRandomForestClassifier\n",
    "\n",
    "from sklearn.model_selection import cross_val_score, cross_val_predict, GridSearchCV\n",
    "from scikitplot.metrics import plot_confusion_matrix, plot_calibration_curve\n",
    "from sklearn.metrics import f1_score, fbeta_score, fowlkes_mallows_score, recall_score, precision_score, accuracy_score\n",
    "\n",
    "warnings.filterwarnings('ignore')"
   ]
  },
  {
   "cell_type": "markdown",
   "id": "2c817a5c",
   "metadata": {
    "heading_collapsed": true
   },
   "source": [
    "### 0.1. Aux Functions"
   ]
  },
  {
   "cell_type": "code",
   "execution_count": null,
   "id": "ffe73c74",
   "metadata": {
    "hidden": true
   },
   "outputs": [],
   "source": [
    "# function split_data_types(df)\n",
    "#     num_att = select(df, findall(col -> eltype(col) <: Int64, eachcol(df)));\n",
    "#     cat_att = df[:,[k for k in names(df) if k ∉ names(num_att)]];\n",
    "#     return Dict(\"n\" => num_att, \"c\" => cat_att) \n",
    "# end;"
   ]
  },
  {
   "cell_type": "code",
   "execution_count": 26,
   "id": "ed093d60",
   "metadata": {
    "hidden": true
   },
   "outputs": [],
   "source": [
    "palette = sns.diverging_palette(359, 359, n=5, s=999, l=50, center='dark')\n",
    "\n",
    "def plot_vars(df4, msk, k):\n",
    "    _, _ = plt.subplots(figsize=(10, 10))\n",
    "    ax0 = plt.subplot2grid((2,2), (0,0))\n",
    "    ax1 = plt.subplot2grid((2,2), (0,1))\n",
    "    ax2 = plt.subplot2grid((2,2), (1,0), colspan=2)\n",
    "\n",
    "    for m, a, c in zip([msk, ~msk], [ax0, ax1], ['r', 'b']):\n",
    "        a.scatter(df4[m].age_of_respondent, df4[m][k], color=c, label=\"With Bank Account\")\n",
    "        a.set_xlabel(\"age_of_respondent\")\n",
    "        a.set_ylabel(k)\n",
    "        a.legend()\n",
    "\n",
    "    sns.scatterplot(df4.age_of_respondent, df4[k], hue=df4.bank_account, ax=ax2);\n",
    "    plt.tight_layout()\n",
    "    \n",
    "def cramer_v(x, y):\n",
    "    cm = pd.crosstab( x, y ).values\n",
    "\n",
    "    chi2 = ss.chi2_contingency( cm )[0]\n",
    "    n    = cm.sum()\n",
    "    r, k = cm.shape\n",
    "\n",
    "    chi2corr = max( 0, chi2 - (r-1)*(k-1)/(n-1) )\n",
    "    kcorr = k - (k-1)**2 / (n-1)\n",
    "    rcorr = r - (r-1)**2 / (n-1)\n",
    "\n",
    "    return np.sqrt( (chi2corr/n) / min(kcorr-1, rcorr-1) )\n",
    "\n",
    "def get_features_importance(model, X):\n",
    "    features = {k: v for k, v in zip(X.columns.tolist(), model.feature_importances_)}\n",
    "\n",
    "    fig, ax = plt.subplots(figsize=(10,5))\n",
    "    ax.bar(features.keys(), features.values(), color='k')\n",
    "    ax.tick_params(axis='x', rotation=80)\n",
    "    ax.set_title(type(model).__name__ + ' Feature Importance');\n",
    "    \n",
    "    return None\n",
    "\n",
    "def ml_error(model_name, y_true, yhat):\n",
    "    f1 = f1_score(y_true, yhat)\n",
    "    fm = fbeta_score(y_true, yhat, average='macro', beta=0.5)\n",
    "    fi = fbeta_score(y_true, yhat, average='micro', beta=0.5)\n",
    "    re = recall_score(y_true, yhat)\n",
    "    pr = precision_score(y_true, yhat)\n",
    "    ac = accuracy_score(y_true, yhat)\n",
    "    \n",
    "    plot_confusion_matrix(y_true, yhat)\n",
    "    \n",
    "    d = pd.DataFrame(columns=[\"Model Name\", \"F1-Score\", \"F-Beta Macro\", \"F-Beta Micro\", \"Recall\", \"Precision\", \"Accuracy\"], index=[0])\n",
    "    d[\"Model Name\"]   = model_name\n",
    "    d[\"F1-Score\"]     = f1\n",
    "    d[\"F-Beta Macro\"] = fm\n",
    "    d[\"F-Beta Micro\"] = fi\n",
    "    d[\"Recall\"]       = re\n",
    "    d[\"Precision\"]    = pr\n",
    "    d[\"Accuracy\"]     = ac\n",
    "    \n",
    "    \n",
    "    return d.reset_index(drop=True)\n",
    "\n",
    "def dataset_selection(df, cols_selected, is_train=True):\n",
    "    df.cellphone_access = df.cellphone_access.apply(lambda x: 1 if x == \"Yes\" else 0)\n",
    "    df.education_level = df.education_level.apply(lambda x: x.lower().replace(' ', '_').replace('/', '_'))\n",
    "    df.job_type = df.job_type.apply(lambda x: x.lower().replace(' ', '_').replace('/', '_'))\n",
    "    \n",
    "    if is_train:\n",
    "        df = df[cols_selected]\n",
    "        #df.bank_account = df.bank_account.apply(lambda x: 1 if x == \"Yes\" else 0)\n",
    "        \n",
    "    else:\n",
    "        cols_test = cols_selected\n",
    "        cols_test.pop(-1)\n",
    "        df = df[cols_test]\n",
    "    \n",
    "    return df\n",
    "\n",
    "def frequency_encoding(df, var='dummy'):\n",
    "    df_ = df.copy()\n",
    "    \n",
    "    if var == 'dummy':\n",
    "        print(\"Provide a Feature\")\n",
    "    else:\n",
    "        f_ = df_.groupby(var).size() / len(df_)\n",
    "        df_[var] = df_[var].apply(lambda x: f_[x])\n",
    "    return df_[var]\n",
    "\n",
    "def map_frequency(df, map_vars_frequency='dummy', no_freq_list=\"dummy\"):\n",
    "    df2 = df.copy()\n",
    "    if no_freq_list == \"dummy\" and map_vars_frequency == \"dummy\":\n",
    "        cat_att = df2.select_dtypes(include=['object', 'string'])\n",
    "        try:\n",
    "            for i in cat_att.columns.tolist():\n",
    "                df2[i] = frequency_encoding(df2, i)\n",
    "            return df2\n",
    "        except:\n",
    "            AttributeError(f\"I Can't Convert: {i}\")\n",
    "            \n",
    "        return df2\n",
    "    else:\n",
    "        if map_vars_frequency == 'dummy':\n",
    "            print(\"Provide a Feature\")\n",
    "        else:\n",
    "            \n",
    "            for k in map_vars_frequency:\n",
    "                col_name = list(k.keys())[0]\n",
    "                series = pd.Series(list(k.values())[0])\n",
    "                \n",
    "                if col_name not in df2.columns.tolist(): pass\n",
    "                    \n",
    "                else: df2[col_name] = df2[col_name].apply(lambda x: series[x])\n",
    "    \n",
    "            return df2\n",
    "    \n",
    "def data_rescaling(df, scalers, feat_to_scale):\n",
    "    df2 = df.copy()\n",
    "    try:\n",
    "        for feat, scaler in zip(feat_to_scale, scalers):\n",
    "            df2[feat] = scaler.transform(df2[[feat]].values)\n",
    "            \n",
    "        return df2\n",
    "    except:\n",
    "        raise AttributeError(f\"I Can't Rescaling the feature*\")\n",
    "        \n",
    "def get_dataset(df, c, frequency_maps, is_train=True):\n",
    "    df = dataset_selection(df, c, is_train=is_train)\n",
    "\n",
    "    # Dataset Preparation\n",
    "    age_scaler = pickle.load(open(\"age_scaler.pkl\", \"rb\"))\n",
    "    house_scaler = pickle.load(open(\"house_scaler.pkl\", \"rb\"))\n",
    "\n",
    "    scals = [age_scaler, house_scaler]\n",
    "    feat_scals = ['age_of_respondent', 'household_size']\n",
    "\n",
    "    # Rescaling\n",
    "    df2 = data_rescaling(df, scals, feat_scals)\n",
    "\n",
    "    # Encoding\n",
    "    df3 = map_frequency(df2, frequency_maps)\n",
    "    \n",
    "    return df3"
   ]
  },
  {
   "cell_type": "code",
   "execution_count": 27,
   "id": "25d551b1",
   "metadata": {
    "hidden": true
   },
   "outputs": [],
   "source": [
    "frequency_maps = [{'country': {'Kenya': 0.2594796803264751,\n",
    "   'Rwanda': 0.3685597687468118,\n",
    "   'Tanzania': 0.2795442951878932,\n",
    "   'Uganda': 0.09241625573881992}},\n",
    " {'location_type': {'Rural': 0.6036388369324944, 'Urban': 0.3963611630675055}},\n",
    " {'gender_of_respondent': {'Female': 0.5868049651419827,\n",
    "   'Male': 0.41319503485801734}},\n",
    " {'relationship_with_head': {'Child': 0.09343649039279034,\n",
    "   'Head of Household': 0.540554327495324,\n",
    "   'Other non-relatives': 0.007651759904778099,\n",
    "   'Other relative': 0.03128719605509267,\n",
    "   'Parent': 0.047610950518619286,\n",
    "   'Spouse': 0.2794592756333957}},\n",
    " {'education_level': {'no_formal_education': 0.19044380207447714,\n",
    "   'other_dont_know_rta': 0.0017003910899506887,\n",
    "   'primary_education': 0.5448053052202007,\n",
    "   'secondary_education': 0.18100663152525082,\n",
    "   'tertiary_education': 0.048121067845604486,\n",
    "   'vocational_specialised_training': 0.033922802244516236}},\n",
    " {'job_type': {'dont_know_refuse_to_answer': 0.0050161537153545314,\n",
    "   'farming_and_fishing': 0.23227342288726407,\n",
    "   'formally_employed_government': 0.017514028226492093,\n",
    "   'formally_employed_private': 0.0437000510117327,\n",
    "   'government_dependent': 0.010627444312191803,\n",
    "   'informally_employed': 0.237034517939126,\n",
    "   'no_income': 0.026356061894235675,\n",
    "   'other_income': 0.04837612650909709,\n",
    "   'remittance_dependent': 0.10644448223091312,\n",
    "   'self_employed': 0.27265771127359295}},\n",
    " {'martial_status': {'Divorced': 0.0879102193504506,\n",
    "   'Dont know': 0.0003400782179901377,\n",
    "   'Married': 0.46191123958510455,\n",
    "   'Single': 0.3375276313552117,\n",
    "   'Widowed': 0.11231083149124299}},\n",
    " {'geral_martial_status': {'Living together': 0.46191123958510455,\n",
    "   'Never Married': 0.3375276313552117,\n",
    "   'None': 0.11265090970923312,\n",
    "   'Seperated': 0.0879102193504506}}]"
   ]
  },
  {
   "cell_type": "markdown",
   "id": "ab722c14",
   "metadata": {
    "heading_collapsed": true
   },
   "source": [
    "### 0.2. Load Dataset"
   ]
  },
  {
   "cell_type": "code",
   "execution_count": null,
   "id": "72b84fd9",
   "metadata": {
    "hidden": true
   },
   "outputs": [],
   "source": [
    "df = DataFrame(CSV.File(\"../data/train.csv\"));"
   ]
  },
  {
   "cell_type": "markdown",
   "id": "0bd0ec78",
   "metadata": {
    "heading_collapsed": true
   },
   "source": [
    "# 1.0. Descriptive Statistical"
   ]
  },
  {
   "cell_type": "code",
   "execution_count": null,
   "id": "f8301052",
   "metadata": {
    "hidden": true
   },
   "outputs": [],
   "source": [
    "df2 = pd.read_csv(\"../data/train.csv\");"
   ]
  },
  {
   "cell_type": "code",
   "execution_count": null,
   "id": "6144f5a1",
   "metadata": {
    "hidden": true
   },
   "outputs": [],
   "source": [
    "first(df, 5)"
   ]
  },
  {
   "cell_type": "markdown",
   "id": "3a11137a",
   "metadata": {
    "heading_collapsed": true,
    "hidden": true
   },
   "source": [
    "## 1.1. Rename Columns"
   ]
  },
  {
   "cell_type": "markdown",
   "id": "16f8c29d",
   "metadata": {
    "hidden": true
   },
   "source": [
    "1. Do Not Need Rename Columns"
   ]
  },
  {
   "cell_type": "markdown",
   "id": "64b8ef2c",
   "metadata": {
    "heading_collapsed": true,
    "hidden": true
   },
   "source": [
    "## 1.2. Data Dimension"
   ]
  },
  {
   "cell_type": "code",
   "execution_count": null,
   "id": "17676f9c",
   "metadata": {
    "hidden": true
   },
   "outputs": [],
   "source": [
    "@printf \"Number of Rows: %d\" size(df)[1]\n",
    "@printf \"\\nNumber of Columns: %d\" size(df)[2]"
   ]
  },
  {
   "cell_type": "markdown",
   "id": "8a668859",
   "metadata": {
    "heading_collapsed": true,
    "hidden": true
   },
   "source": [
    "## 1.3. Check Data Types"
   ]
  },
  {
   "cell_type": "code",
   "execution_count": null,
   "id": "ec9b4e03",
   "metadata": {
    "hidden": true
   },
   "outputs": [],
   "source": [
    "DataFrame(name=names(df), type=eltype.(eachcol(df)))"
   ]
  },
  {
   "cell_type": "markdown",
   "id": "518b6d4a",
   "metadata": {
    "heading_collapsed": true,
    "hidden": true
   },
   "source": [
    "## 1.4. Check Na"
   ]
  },
  {
   "cell_type": "code",
   "execution_count": null,
   "id": "060f2ea8",
   "metadata": {
    "hidden": true
   },
   "outputs": [],
   "source": [
    "filter(ismissing, df)"
   ]
  },
  {
   "cell_type": "markdown",
   "id": "85513284",
   "metadata": {
    "heading_collapsed": true,
    "hidden": true
   },
   "source": [
    "## 1.5. Fillout Na"
   ]
  },
  {
   "cell_type": "markdown",
   "id": "8c560c58",
   "metadata": {
    "hidden": true
   },
   "source": [
    "1. Do Not Have Na Values "
   ]
  },
  {
   "cell_type": "markdown",
   "id": "694ef90e",
   "metadata": {
    "heading_collapsed": true,
    "hidden": true
   },
   "source": [
    "## 1.6. Change Data Types"
   ]
  },
  {
   "cell_type": "markdown",
   "id": "26d6d2b7",
   "metadata": {
    "hidden": true
   },
   "source": [
    "1. Do Not have to change data types"
   ]
  },
  {
   "cell_type": "markdown",
   "id": "3f71f824",
   "metadata": {
    "hidden": true
   },
   "source": [
    "## 1.7. Descriptive Statistical"
   ]
  },
  {
   "cell_type": "code",
   "execution_count": null,
   "id": "d24bb8ef",
   "metadata": {
    "hidden": true
   },
   "outputs": [],
   "source": [
    "df_ = split_data_types(df);"
   ]
  },
  {
   "cell_type": "markdown",
   "id": "a3de8533",
   "metadata": {
    "hidden": true
   },
   "source": [
    "### 1.7.1. Numerical Variables"
   ]
  },
  {
   "cell_type": "code",
   "execution_count": null,
   "id": "e00bdb80",
   "metadata": {
    "hidden": true,
    "scrolled": true
   },
   "outputs": [],
   "source": [
    "fig, ax = plt.subplots(1, 3, figsize=(15,4))\n",
    "for i in zip([1, 2, 3], [\"age_of_respondent\",\"year\",\"household_size\"], [\"r\", \"k\", \"b\"])\n",
    "    ax[i[1]].hist(df_[\"n\"][:, i[2]] , color=i[3], bins=15);\n",
    "end;"
   ]
  },
  {
   "cell_type": "markdown",
   "id": "85b3dab6",
   "metadata": {
    "hidden": true
   },
   "source": [
    "### 1.7.2. Categorical Variables"
   ]
  },
  {
   "cell_type": "code",
   "execution_count": null,
   "id": "84951554",
   "metadata": {
    "hidden": true
   },
   "outputs": [],
   "source": [
    "df2.select_dtypes(include=[\"object\"]).describe().T"
   ]
  },
  {
   "cell_type": "markdown",
   "id": "be1782e7",
   "metadata": {
    "heading_collapsed": true
   },
   "source": [
    "# 2.0. Feature Engineering"
   ]
  },
  {
   "cell_type": "code",
   "execution_count": 23,
   "id": "bb273243",
   "metadata": {
    "hidden": true
   },
   "outputs": [
    {
     "ename": "NameError",
     "evalue": "name 'df2' is not defined",
     "output_type": "error",
     "traceback": [
      "\u001b[1;31m---------------------------------------------------------------------------\u001b[0m",
      "\u001b[1;31mNameError\u001b[0m                                 Traceback (most recent call last)",
      "Input \u001b[1;32mIn [23]\u001b[0m, in \u001b[0;36m<cell line: 1>\u001b[1;34m()\u001b[0m\n\u001b[1;32m----> 1\u001b[0m df3 \u001b[38;5;241m=\u001b[39m \u001b[43mdf2\u001b[49m\u001b[38;5;241m.\u001b[39mcopy()\n",
      "\u001b[1;31mNameError\u001b[0m: name 'df2' is not defined"
     ]
    }
   ],
   "source": [
    "df3 = df2.copy();"
   ]
  },
  {
   "cell_type": "markdown",
   "id": "b1799fc0",
   "metadata": {
    "heading_collapsed": true,
    "hidden": true
   },
   "source": [
    "## 2.1. Mind Map "
   ]
  },
  {
   "cell_type": "markdown",
   "id": "fa8f4f94",
   "metadata": {
    "hidden": true
   },
   "source": [
    "1. Next Cycle"
   ]
  },
  {
   "cell_type": "markdown",
   "id": "731ee909",
   "metadata": {
    "hidden": true
   },
   "source": [
    "## 2.2. Hypothesis List"
   ]
  },
  {
   "cell_type": "markdown",
   "id": "8634cc94",
   "metadata": {
    "hidden": true
   },
   "source": [
    "1. Next Cycle"
   ]
  },
  {
   "cell_type": "markdown",
   "id": "ce5fab8f",
   "metadata": {
    "heading_collapsed": true,
    "hidden": true
   },
   "source": [
    "## 2.3. Feature Engineering"
   ]
  },
  {
   "cell_type": "code",
   "execution_count": null,
   "id": "c9e8a295",
   "metadata": {
    "hidden": true
   },
   "outputs": [],
   "source": [
    "df3 = pd.concat([df3, df3.marital_status.str.split(\"/\", expand=true).rename(columns=Dict(0 => \"martial_status\", 1 => \"geral_martial_status\"))], axis=1);\n",
    "\n",
    "df3 = (df3.fillna(\"None\")).drop_duplicates();"
   ]
  },
  {
   "cell_type": "markdown",
   "id": "fc30bc7c",
   "metadata": {
    "heading_collapsed": true
   },
   "source": [
    "# 3.0. Dataset Filtering"
   ]
  },
  {
   "cell_type": "code",
   "execution_count": null,
   "id": "9eea58e1",
   "metadata": {
    "hidden": true
   },
   "outputs": [],
   "source": [
    "df3 = pd.read_csv(\"../data/df2.csv\", index_col=0)"
   ]
  },
  {
   "cell_type": "markdown",
   "id": "f5723a94",
   "metadata": {
    "heading_collapsed": true,
    "hidden": true
   },
   "source": [
    "## 3.1. Filtering Rows"
   ]
  },
  {
   "cell_type": "markdown",
   "id": "c5a7a216",
   "metadata": {
    "hidden": true
   },
   "source": [
    "1. Next Cycle"
   ]
  },
  {
   "cell_type": "markdown",
   "id": "c7fdb803",
   "metadata": {
    "heading_collapsed": true,
    "hidden": true
   },
   "source": [
    "## 3.2. Filtering Columns "
   ]
  },
  {
   "cell_type": "code",
   "execution_count": null,
   "id": "52c881a4",
   "metadata": {
    "hidden": true
   },
   "outputs": [],
   "source": [
    "df3 = df3.drop(\"marital_status\", axis=1);"
   ]
  },
  {
   "cell_type": "markdown",
   "id": "1cfcfde2",
   "metadata": {
    "heading_collapsed": true
   },
   "source": [
    "# 4.0. Exploratory Data Analysis"
   ]
  },
  {
   "cell_type": "code",
   "execution_count": null,
   "id": "2aa3132c",
   "metadata": {
    "hidden": true
   },
   "outputs": [],
   "source": [
    "df4 = df3.copy();"
   ]
  },
  {
   "cell_type": "code",
   "execution_count": null,
   "id": "8e314833",
   "metadata": {
    "hidden": true
   },
   "outputs": [],
   "source": [
    "advert_report = sv.analyze(df4)\n",
    "\n",
    "advert_report.show_html('Advertising.html')"
   ]
  },
  {
   "cell_type": "markdown",
   "id": "a4bf8405",
   "metadata": {
    "heading_collapsed": true,
    "hidden": true
   },
   "source": [
    "## 4.1. Univariable Analysis"
   ]
  },
  {
   "cell_type": "code",
   "execution_count": null,
   "id": "53788389",
   "metadata": {
    "hidden": true
   },
   "outputs": [],
   "source": [
    "msk = (df4.bank_account == \"Yes\")"
   ]
  },
  {
   "cell_type": "markdown",
   "id": "7e4f9f58",
   "metadata": {
    "heading_collapsed": true,
    "hidden": true
   },
   "source": [
    "### 4.1.1. Response Variable"
   ]
  },
  {
   "cell_type": "code",
   "execution_count": null,
   "id": "b5d2fff0",
   "metadata": {
    "hidden": true
   },
   "outputs": [],
   "source": [
    "(df4.bank_account.value_counts() / len(df4)).to_dict()"
   ]
  },
  {
   "cell_type": "code",
   "execution_count": null,
   "id": "dfd9ae41",
   "metadata": {
    "hidden": true
   },
   "outputs": [],
   "source": [
    "fig, ax = plt.subplots(1, 2, figsize=(13, 4))\n",
    "sns.countplot(df4.country, hue=df4.bank_account, palette=palette)\n",
    "sns.countplot(df4.bank_account, palette=palette, ax=ax[0]);"
   ]
  },
  {
   "cell_type": "code",
   "execution_count": null,
   "id": "422cc12a",
   "metadata": {
    "hidden": true,
    "scrolled": false
   },
   "outputs": [],
   "source": [
    "c = df4.select_dtypes(include=['object'])\n",
    "for i in c.columns.tolist():\n",
    "    fig, ax = plt.subplots(figsize=(3,3))\n",
    "    sns.countplot(df4[i], hue=df4['bank_account'], palette=palette, ax=ax)"
   ]
  },
  {
   "cell_type": "markdown",
   "id": "d9f1b8e6",
   "metadata": {
    "hidden": true
   },
   "source": [
    "### 4.1.2. Numerical Attributes"
   ]
  },
  {
   "cell_type": "code",
   "execution_count": null,
   "id": "170de38a",
   "metadata": {
    "hidden": true
   },
   "outputs": [],
   "source": [
    "fig, ax = plt.subplots(1, 3, figsize=(15,4))\n",
    "for i in zip([1, 2, 3], [\"age_of_respondent\",\"year\",\"household_size\"], [\"r\", \"k\", \"b\"])\n",
    "    ax[i[1]].hist(df_[\"n\"][:, i[2]] , color=i[3], bins=15);\n",
    "end;"
   ]
  },
  {
   "cell_type": "code",
   "execution_count": null,
   "id": "c99b8c99",
   "metadata": {
    "hidden": true
   },
   "outputs": [],
   "source": [
    "n = df4.select_dtypes(include=['int64', 'float64'])"
   ]
  },
  {
   "cell_type": "code",
   "execution_count": null,
   "id": "aa9aea0d",
   "metadata": {
    "hidden": true
   },
   "outputs": [],
   "source": [
    "fig, ax = plt.subplots(1, 3, figsize=(15,4))\n",
    "for i in zip([0, 1, 2], [\"age_of_respondent\",\"year\",\"household_size\"]):\n",
    "    ax[i[0]].hist(n[msk][i[1]] , color='r', bins=15, alpha=.6);\n",
    "    ax[i[0]].hist(n[~msk][i[1]] , color='k', bins=15, alpha=.5);"
   ]
  },
  {
   "cell_type": "code",
   "execution_count": null,
   "id": "74fcbfc3",
   "metadata": {
    "hidden": true
   },
   "outputs": [],
   "source": [
    "fig, ax = plt.subplots(1, 3, figsize=(15, 4))\n",
    "for k, i in zip(['year', 'household_size', 'age_of_respondent'], [0, 1, 2]):\n",
    "    sns.boxplot(df4[k], ax=ax[i], color=\"r\")"
   ]
  },
  {
   "cell_type": "markdown",
   "id": "25ebdef0",
   "metadata": {
    "heading_collapsed": true,
    "hidden": true
   },
   "source": [
    "## 4.2. Bivariable Analysis"
   ]
  },
  {
   "cell_type": "markdown",
   "id": "9b0f1471",
   "metadata": {
    "heading_collapsed": true,
    "hidden": true
   },
   "source": [
    "### 4.2.1. Variable per Target"
   ]
  },
  {
   "cell_type": "code",
   "execution_count": null,
   "id": "210ab9cb",
   "metadata": {
    "hidden": true
   },
   "outputs": [],
   "source": [
    "aux1 = df4.drop([\"uniqueid\", \"uid\"], axis=1)"
   ]
  },
  {
   "cell_type": "code",
   "execution_count": null,
   "id": "63863d00",
   "metadata": {
    "hidden": true,
    "scrolled": false
   },
   "outputs": [],
   "source": [
    "for k in aux1.columns.tolist():\n",
    "    plot_vars(df4, msk, k)"
   ]
  },
  {
   "cell_type": "markdown",
   "id": "b64335c5",
   "metadata": {
    "heading_collapsed": true,
    "hidden": true
   },
   "source": [
    "## 4.3. Multivariable Analysis"
   ]
  },
  {
   "cell_type": "markdown",
   "id": "c81916a2",
   "metadata": {
    "heading_collapsed": true,
    "hidden": true
   },
   "source": [
    "### 4.3.1. Numerical Attributes"
   ]
  },
  {
   "cell_type": "code",
   "execution_count": null,
   "id": "c82c4fb2",
   "metadata": {
    "hidden": true
   },
   "outputs": [],
   "source": [
    "sns.heatmap(df4[['year', 'household_size', 'age_of_respondent']].corr(), annot=True);"
   ]
  },
  {
   "cell_type": "markdown",
   "id": "217825d5",
   "metadata": {
    "heading_collapsed": true,
    "hidden": true
   },
   "source": [
    "### 4.3.2. Categorical Attributes"
   ]
  },
  {
   "cell_type": "code",
   "execution_count": null,
   "id": "40a2116d",
   "metadata": {
    "hidden": true
   },
   "outputs": [],
   "source": [
    "c_att_un = df4.select_dtypes(include=['object'])\n",
    "c_att_un = c_att_un.drop(['uniqueid', 'uid'], axis=1)\n",
    "\n",
    "results = []\n",
    "for i in c_att_un.columns:\n",
    "    new_list = []\n",
    "    for j in c_att_un.columns:\n",
    "        new_list.append(cramer_v(c_att_un[i], c_att_un[j], ))\n",
    "    results.append(new_list)\n",
    "    \n",
    "c_corr = pd.DataFrame( results )\n",
    "c_corr.columns = c_att_un.columns\n",
    "c_corr = c_corr.set_index( c_att_un.columns )"
   ]
  },
  {
   "cell_type": "code",
   "execution_count": null,
   "id": "f5bfa355",
   "metadata": {
    "hidden": true
   },
   "outputs": [],
   "source": [
    "_, _, plt.subplots(figsize=(14,10))\n",
    "sns.heatmap(c_corr, annot=True);"
   ]
  },
  {
   "cell_type": "markdown",
   "id": "9b7ca355",
   "metadata": {
    "heading_collapsed": true
   },
   "source": [
    "# 5.0. Data Preparation"
   ]
  },
  {
   "cell_type": "code",
   "execution_count": null,
   "id": "a749a56a",
   "metadata": {
    "hidden": true
   },
   "outputs": [],
   "source": [
    "df5 = pd.read_csv(\"../data/df2.csv\", index_col=0)"
   ]
  },
  {
   "cell_type": "markdown",
   "id": "885525cb",
   "metadata": {
    "heading_collapsed": true,
    "hidden": true
   },
   "source": [
    "## 5.1. Normalization"
   ]
  },
  {
   "cell_type": "markdown",
   "id": "0264b622",
   "metadata": {
    "hidden": true
   },
   "source": [
    "1. Next Cycle"
   ]
  },
  {
   "cell_type": "markdown",
   "id": "8d3007cd",
   "metadata": {
    "heading_collapsed": true,
    "hidden": true
   },
   "source": [
    "## 5.2. Rescaling"
   ]
  },
  {
   "cell_type": "code",
   "execution_count": null,
   "id": "6f12d8ee",
   "metadata": {
    "hidden": true
   },
   "outputs": [],
   "source": [
    "mms = MinMaxScaler()"
   ]
  },
  {
   "cell_type": "code",
   "execution_count": null,
   "id": "b0a6d9e6",
   "metadata": {
    "hidden": true
   },
   "outputs": [],
   "source": [
    "df5.year = mms.fit_transform(df5[['year']])\n",
    "pickle.dump(mms, open(\"year_scaler.pkl\", \"wb\"))\n",
    "\n",
    "df5.household_size = mms.fit_transform(df5[['household_size']])\n",
    "pickle.dump(mms, open(\"house_scaler.pkl\", \"wb\"))\n",
    "\n",
    "df5.age_of_respondent = mms.fit_transform(df5[['age_of_respondent']])\n",
    "pickle.dump(mms, open(\"age_scaler.pkl\", \"wb\"))"
   ]
  },
  {
   "cell_type": "markdown",
   "id": "a4443195",
   "metadata": {
    "heading_collapsed": true,
    "hidden": true
   },
   "source": [
    "## 5.3. Transformation"
   ]
  },
  {
   "cell_type": "code",
   "execution_count": null,
   "id": "56a9b97a",
   "metadata": {
    "hidden": true
   },
   "outputs": [],
   "source": [
    "f_country = df5.groupby('country').size() / len(df5)\n",
    "df5.country = df5.country.apply(lambda x: f_country[x])\n",
    "\n",
    "f_location = df5.groupby('location_type').size() / len(df5)\n",
    "df5.location_type = df5.location_type.apply(lambda x: f_location[x])\n",
    "\n",
    "f_cell = df5.groupby('cellphone_access').size() / len(df5)\n",
    "df5.cellphone_access = df5.cellphone_access.apply(lambda x: f_cell[x])\n",
    "\n",
    "f_gender = df5.groupby('gender_of_respondent').size() / len(df5)\n",
    "df5.gender_of_respondent = df5.gender_of_respondent.apply(lambda x: f_gender[x])\n",
    "\n",
    "f_relash = df5.groupby('relationship_with_head').size() / len(df5)\n",
    "df5.relationship_with_head = df5.relationship_with_head.apply(lambda x: f_relash[x])\n",
    "\n",
    "f_edu = df5.groupby('education_level').size() / len(df5)\n",
    "df5.education_level = df5.education_level.apply(lambda x: f_edu[x])\n",
    "\n",
    "f_job = df5.groupby('job_type').size() / len(df5)\n",
    "df5.job_type = df5.job_type.apply(lambda x: f_job[x])\n",
    "\n",
    "f_m1 = df5.groupby('martial_status').size() / len(df5)\n",
    "df5.martial_status = df5.martial_status.apply(lambda x: f_m1[x])\n",
    "\n",
    "f_m2 = df5.groupby('geral_martial_status').size() / len(df5)\n",
    "df5.geral_martial_status = df5.geral_martial_status.apply(lambda x: f_m2[x])\n",
    "\n",
    "freq_columns = ['country', 'location_type', 'cellphone_access', 'gender_of_respondent', 'relationship_with_head', 'education_level', 'job_type', 'martial_status', 'geral_martial_status',]\n",
    "frequency_codes = [f_country.to_dict(), f_location.to_dict(), f_cell.to_dict(), f_gender.to_dict(), f_relash.to_dict(), f_edu.to_dict(), f_job.to_dict(), f_m1.to_dict(), f_m2.to_dict()]\n",
    "frequency_list = [{c: f} for c, f in zip(freq_columns, frequency_codes)]"
   ]
  },
  {
   "cell_type": "markdown",
   "id": "f264efd8",
   "metadata": {
    "heading_collapsed": true
   },
   "source": [
    "# 6.0. Feature Importance"
   ]
  },
  {
   "cell_type": "code",
   "execution_count": null,
   "id": "6a5c25af",
   "metadata": {
    "hidden": true
   },
   "outputs": [],
   "source": [
    "df6 = df5.copy()\n",
    "\n",
    "df6 = df6.drop(['uniqueid', 'uid'], axis=1)\n",
    "\n",
    "X = df6.drop(\"bank_account\", axis=1)\n",
    "Y = df6.loc[:, 'bank_account'].apply(lambda x: 1 if x == \"Yes\" else 0)"
   ]
  },
  {
   "cell_type": "code",
   "execution_count": null,
   "id": "fd80bb9e",
   "metadata": {
    "hidden": true
   },
   "outputs": [],
   "source": [
    "xg = XGBClassifier(n_jobs=-1).fit(X, Y)\n",
    "ex = ExtraTreesClassifier(n_jobs=-1).fit(X, Y)\n",
    "rf = RandomForestClassifier(n_jobs=-1).fit(X, Y)"
   ]
  },
  {
   "cell_type": "code",
   "execution_count": null,
   "id": "c7c3e456",
   "metadata": {
    "hidden": true
   },
   "outputs": [],
   "source": [
    "get_features_importance(ex, X)"
   ]
  },
  {
   "cell_type": "code",
   "execution_count": null,
   "id": "bbf149cc",
   "metadata": {
    "hidden": true
   },
   "outputs": [],
   "source": [
    "get_features_importance(xg, X)"
   ]
  },
  {
   "cell_type": "code",
   "execution_count": null,
   "id": "0f0571a9",
   "metadata": {
    "hidden": true
   },
   "outputs": [],
   "source": [
    "get_features_importance(rf, X)"
   ]
  },
  {
   "cell_type": "markdown",
   "id": "60278fea",
   "metadata": {
    "heading_collapsed": true
   },
   "source": [
    "# 7.0. Machine Learning Models"
   ]
  },
  {
   "cell_type": "code",
   "execution_count": null,
   "id": "63071fa8",
   "metadata": {
    "hidden": true
   },
   "outputs": [],
   "source": [
    "c = ['country', 'location_type','cellphone_access','household_size','age_of_respondent','gender_of_respondent','education_level','job_type','bank_account']\n",
    "\n",
    "df7 = pd.read_csv(\"../data/df6.csv\", index_col=0)\n",
    "\n",
    "df7 = df7[c]\n",
    "\n",
    "X = df7.iloc[:, :-1]\n",
    "Y = df7.iloc[:, -1]\n",
    "\n",
    "x_train, x_val, y_train, y_val = train_test_split(X, Y, test_size=.1, )"
   ]
  },
  {
   "cell_type": "markdown",
   "id": "b7decf19",
   "metadata": {
    "heading_collapsed": true,
    "hidden": true
   },
   "source": [
    "## 7.1. Geral Models"
   ]
  },
  {
   "cell_type": "markdown",
   "id": "0eb67242",
   "metadata": {
    "heading_collapsed": true,
    "hidden": true
   },
   "source": [
    "### 7.1. SGD"
   ]
  },
  {
   "cell_type": "code",
   "execution_count": null,
   "id": "27f62762",
   "metadata": {
    "hidden": true
   },
   "outputs": [],
   "source": [
    "sg = SGDClassifier(loss=\"log\").fit(x_train, y_train)\n",
    "\n",
    "yhat_sg = sg.predict(x_val)\n",
    "\n",
    "ml_error(type(sg).__name__, y_val, yhat_sg)"
   ]
  },
  {
   "cell_type": "markdown",
   "id": "206b078a",
   "metadata": {
    "heading_collapsed": true,
    "hidden": true
   },
   "source": [
    "### 7.2. XGBoost"
   ]
  },
  {
   "cell_type": "code",
   "execution_count": null,
   "id": "4b35bc09",
   "metadata": {
    "hidden": true
   },
   "outputs": [],
   "source": [
    "xg = XGBClassifier(n_jobs=-1).fit(x_train, y_train)\n",
    "\n",
    "yhat_xg = xg.predict(x_val)\n",
    "\n",
    "ml_error(type(xg).__name__, y_val, yhat_xg)"
   ]
  },
  {
   "cell_type": "markdown",
   "id": "07737299",
   "metadata": {
    "heading_collapsed": true,
    "hidden": true
   },
   "source": [
    "### 7.3. ExtraTrees"
   ]
  },
  {
   "cell_type": "code",
   "execution_count": null,
   "id": "41fa279e",
   "metadata": {
    "hidden": true
   },
   "outputs": [],
   "source": [
    "ex = ExtraTreesClassifier(n_jobs=-1).fit(x_train, y_train)\n",
    "\n",
    "yhat_ex = xg.predict(x_val)\n",
    "\n",
    "ml_error(type(ex).__name__, y_val, yhat_ex)"
   ]
  },
  {
   "cell_type": "markdown",
   "id": "619ea937",
   "metadata": {
    "heading_collapsed": true,
    "hidden": true
   },
   "source": [
    "### 7.4. Random Forest"
   ]
  },
  {
   "cell_type": "code",
   "execution_count": null,
   "id": "adfe936f",
   "metadata": {
    "hidden": true
   },
   "outputs": [],
   "source": [
    "rf = RandomForestClassifier(n_jobs=-1).fit(x_train, y_train)\n",
    "\n",
    "yhat_rf = xg.predict(x_val)\n",
    "\n",
    "ml_error(type(rf).__name__, y_val, yhat_rf)"
   ]
  },
  {
   "cell_type": "markdown",
   "id": "0ac5a7fb",
   "metadata": {
    "heading_collapsed": true,
    "hidden": true
   },
   "source": [
    "### 7.5. Balanced Random Forest"
   ]
  },
  {
   "cell_type": "code",
   "execution_count": null,
   "id": "33964770",
   "metadata": {
    "hidden": true
   },
   "outputs": [],
   "source": [
    "bl = BalancedRandomForestClassifier(n_jobs=-1).fit(x_train, y_train)\n",
    "\n",
    "yhat_bl = xg.predict(x_val)\n",
    "\n",
    "ml_error(type(bl).__name__, y_val, yhat_bl)"
   ]
  },
  {
   "cell_type": "markdown",
   "id": "49da5f82",
   "metadata": {
    "heading_collapsed": true,
    "hidden": true
   },
   "source": [
    "### 7.6. K-Means"
   ]
  },
  {
   "cell_type": "code",
   "execution_count": null,
   "id": "e0e443aa",
   "metadata": {
    "hidden": true
   },
   "outputs": [],
   "source": [
    "km = KMeans(n_clusters=2).fit(x_train)\n",
    "\n",
    "yhat_km = km.predict(x_val)\n",
    "\n",
    "ml_error(type(km).__name__, y_val, yhat_km)"
   ]
  },
  {
   "cell_type": "markdown",
   "id": "c78c9029",
   "metadata": {
    "heading_collapsed": true,
    "hidden": true
   },
   "source": [
    "## 7.2. Final Pipelines"
   ]
  },
  {
   "cell_type": "markdown",
   "id": "15199c2f",
   "metadata": {
    "hidden": true
   },
   "source": [
    "### 7.2.1. Train Dataset Preparation"
   ]
  },
  {
   "cell_type": "code",
   "execution_count": null,
   "id": "8a2cd8c6",
   "metadata": {
    "hidden": true
   },
   "outputs": [],
   "source": [
    "df7 = pd.read_csv(\"../data/df3_safe.csv\", index_col=[0]) # Raw CSV\n",
    "\n",
    "df71 = df7.copy()\n",
    "\n",
    "c = ['country', 'location_type','cellphone_access','household_size','age_of_respondent','gender_of_respondent','education_level','job_type','bank_account']\n",
    "\n",
    "df72 = get_dataset(df71, c, frequency_maps)\n",
    "\n",
    "X, Y = df72.iloc[:, :-1], df72.iloc[:, -1]\n",
    "\n",
    "\n",
    "df_test = pd.read_csv(\"../data/test.csv\")\n",
    "x_test = get_dataset(df_test, c, frequency_maps, is_train=False)\n",
    "\n",
    "x_train, x_val, y_train, y_val = train_test_split(X, Y, test_size=.1)"
   ]
  },
  {
   "cell_type": "markdown",
   "id": "334fe9fb",
   "metadata": {
    "heading_collapsed": true,
    "hidden": true
   },
   "source": [
    "### 7.2.2. Model Trainings"
   ]
  },
  {
   "cell_type": "code",
   "execution_count": null,
   "id": "dbcbeb2e",
   "metadata": {
    "hidden": true
   },
   "outputs": [],
   "source": [
    "models = [SGDClassifier(loss=\"log\"), \n",
    "          RandomForestClassifier(n_jobs=-1), \n",
    "          XGBClassifier(n_jobs=-1),\n",
    "          ExtraTreesClassifier(n_jobs=-1),\n",
    "          KMeans(n_clusters=2)]\n",
    "\n",
    "models_names = ['SGD', 'RF', 'XGB', 'ET', 'KM']\n",
    "\n",
    "means, stds = [], []\n",
    "\n",
    "scoring = 'f1_micro'\n",
    "\n",
    "for model, name in zip(models, models_names):\n",
    "    cv = cross_val_score(model, x_train, y_train, cv=10, scoring=scoring)\n",
    "    mean, std = cv.mean(), cv.std()\n",
    "    means.append(mean)\n",
    "    stds.append(std)\n",
    "    \n",
    "    print(f'{name}: {mean:.3f} +/- {std:.3f}')"
   ]
  },
  {
   "cell_type": "code",
   "execution_count": null,
   "id": "71727b45",
   "metadata": {
    "hidden": true
   },
   "outputs": [],
   "source": [
    "xg = XGBClassifier(n_jobs=-1).fit(x_train, y_train)\n",
    "\n",
    "yhat_xg = xg.predict(x_val)\n",
    "\n",
    "ml_error(type(xg).__name__, y_val, yhat_xg)"
   ]
  },
  {
   "cell_type": "markdown",
   "id": "b6f72284",
   "metadata": {
    "heading_collapsed": true,
    "hidden": true
   },
   "source": [
    "### 7.2.3. Two Final Models"
   ]
  },
  {
   "cell_type": "code",
   "execution_count": null,
   "id": "5f58a39a",
   "metadata": {
    "hidden": true
   },
   "outputs": [],
   "source": [
    "models = [RandomForestClassifier(n_jobs=-1), XGBClassifier(n_jobs=-1)]\n",
    "models_names = ['RF', 'XG']\n",
    "\n",
    "y_probas = []\n",
    "thresholds = np.arange(0.5, 1., .1)\n",
    "f1_scores = []\n",
    "\n",
    "for model, name in zip(models, models_names):\n",
    "    y_proba = cross_val_predict(model, x_train, y_train, cv=10, method='predict_proba')[:, 1]\n",
    "    y_probas.append(y_proba)\n",
    "    print(f'F1-Scores for {name}:')\n",
    "    scores = []\n",
    "    for t in thresholds:\n",
    "        y_pred = (y_proba >= t).astype(int)\n",
    "        score = fbeta_score(y_train, y_pred, average='micro', beta=0.5)\n",
    "        scores.append(score)\n",
    "        print(f'Threshold {t:.1f}: {score:.2f}')\n",
    "    print()\n",
    "    f1_scores.append(scores)"
   ]
  },
  {
   "cell_type": "markdown",
   "id": "7babc9fc",
   "metadata": {
    "heading_collapsed": true,
    "hidden": true
   },
   "source": [
    "### 7.2.4. Tuning Best Model"
   ]
  },
  {
   "cell_type": "code",
   "execution_count": null,
   "id": "96a0e140",
   "metadata": {
    "hidden": true
   },
   "outputs": [],
   "source": [
    "clf_name = 'xgbclassifier'\n",
    "\n",
    "params = {}\n",
    "params[f'{clf_name}__learning_rate']    = [0.1, 0.2]\n",
    "params[f'{clf_name}__min_child_weight'] = [5, 6]\n",
    "params[f'{clf_name}__gamma']            = [1.]\n",
    "params[f'{clf_name}__subsample']        = [0.9, 1., 1.1]\n",
    "params[f'{clf_name}__colsample_bytree'] = [1.0]\n",
    "params[f'{clf_name}__max_depth']        = [3, 4]"
   ]
  },
  {
   "cell_type": "code",
   "execution_count": null,
   "id": "65080dc5",
   "metadata": {
    "hidden": true
   },
   "outputs": [],
   "source": [
    "grid = GridSearchCV(XGBClassifier(n_jobs=-1), params, cv=10, n_jobs=-1, scoring='f1_micro')\n",
    "grid.fit(x_train, y_train)\n",
    "\n",
    "print(grid.best_params_)"
   ]
  },
  {
   "cell_type": "code",
   "execution_count": null,
   "id": "be4b0c41",
   "metadata": {
    "hidden": true
   },
   "outputs": [],
   "source": [
    "grid.best_score_"
   ]
  },
  {
   "cell_type": "code",
   "execution_count": null,
   "id": "f9f9d73a",
   "metadata": {
    "hidden": true
   },
   "outputs": [],
   "source": [
    "# Tuning Best Model\n",
    "pipe = grid.best_estimator_\n",
    "yhat = cross_val_predict(pipe, x_train, y_train, cv=10, n_jobs=-1)"
   ]
  },
  {
   "cell_type": "code",
   "execution_count": null,
   "id": "b8ea0569",
   "metadata": {
    "hidden": true
   },
   "outputs": [],
   "source": [
    "ml_error(\"XGBoost Tuned\", y_train, yhat)"
   ]
  },
  {
   "cell_type": "code",
   "execution_count": null,
   "id": "4e7b8b85",
   "metadata": {
    "hidden": true
   },
   "outputs": [],
   "source": [
    "xg = grid.best_estimator_\n",
    "\n",
    "yhat2 = xg.predict(x_val)"
   ]
  },
  {
   "cell_type": "code",
   "execution_count": null,
   "id": "21524b0f",
   "metadata": {
    "hidden": true
   },
   "outputs": [],
   "source": [
    "ml_error(\"XGBoost Tuned\", y_val, yhat2)"
   ]
  },
  {
   "cell_type": "code",
   "execution_count": 32,
   "id": "58cd7341",
   "metadata": {
    "hidden": true
   },
   "outputs": [],
   "source": [
    "yhat_sub = xg.predict(df_test2[c])"
   ]
  },
  {
   "cell_type": "code",
   "execution_count": 34,
   "id": "1193685d",
   "metadata": {
    "hidden": true
   },
   "outputs": [],
   "source": [
    "sub_file = pd.DataFrame()\n",
    "sub_file['uid'] = df_test['uid']\n",
    "sub_file['bank_account'] = yhat_sub\n",
    "sub_file['bank_account'] = sub_file['bank_account'].apply(lambda x: 1 if x == 'Yes' else 'No')\n",
    "\n",
    "sub_file.to_csv('subfil.csv', index=False)"
   ]
  },
  {
   "cell_type": "markdown",
   "id": "af564b71",
   "metadata": {
    "heading_collapsed": true
   },
   "source": [
    "# <font color=\"red\"> 8.0. Dataset Balance</font>"
   ]
  },
  {
   "cell_type": "code",
   "execution_count": 28,
   "id": "341ef3bf",
   "metadata": {
    "hidden": true
   },
   "outputs": [],
   "source": [
    "df_test = pd.read_csv(\"../data/test.csv\")\n",
    "\n",
    "df_test = pd.concat([df_test, df_test.marital_status.str.split(\"/\", expand=True).rename(columns={0:\"martial_status\", 1:\"geral_martial_status\"})], axis=1);\n",
    "\n",
    "df_test = (df_test.fillna(\"None\")).drop_duplicates();\n",
    "\n",
    "df_test1 = get_dataset(df_test, df_test.columns.tolist(), frequency_maps)\n",
    "df_test1.year = df_test1.year.apply(lambda x: 2 if x == 2018 else 1 if x == 2017 else 0)\n",
    "#df_test1.bank_account = df_test1.bank_account.apply(lambda x: 1 if x == \"Yes\" else 0 )\n",
    "\n",
    "df_test1 = df_test1.drop(\"marital_status\", axis=1)\n",
    "df_test1 = df_test1.drop(\"uniqueid\", axis=1)\n",
    "\n",
    "df_test2 = df_test1.drop('uid', axis=1)"
   ]
  },
  {
   "cell_type": "code",
   "execution_count": 29,
   "id": "e16c10dc",
   "metadata": {
    "hidden": true
   },
   "outputs": [],
   "source": [
    "df8 = pd.read_csv(\"../data/df2.csv\", index_col=0)\n",
    "\n",
    "df8 = df8.drop( ['marital_status', 'uid', 'uniqueid'], axis=1)\n",
    "\n",
    "# Get Datset\n",
    "df81 = get_dataset(df8, df8.columns.tolist(), frequency_maps)\n",
    "df81.year = df81.year.apply(lambda x: 2 if x == 2018 else 1 if x == 2017 else 0)\n",
    "df81.bank_account = df81.bank_account.apply(lambda x: 1 if x == \"Yes\" else 0 )"
   ]
  },
  {
   "cell_type": "code",
   "execution_count": null,
   "id": "284a8c93",
   "metadata": {
    "hidden": true
   },
   "outputs": [],
   "source": [
    "# Split Dataset in train and test\n",
    "\n",
    "X = df81.drop('bank_account', axis=1)\n",
    "Y = df81.bank_account\n",
    "\n",
    "x_train, x_val, y_train, y_val = train_test_split(X, Y, test_size=.1)"
   ]
  },
  {
   "cell_type": "code",
   "execution_count": null,
   "id": "9314c50d",
   "metadata": {
    "hidden": true
   },
   "outputs": [],
   "source": [
    "# Lower Dataset\n",
    "df82 = df81[c+['bank_account']]\n",
    "\n",
    "Xl = df82.drop('bank_account', axis=1)\n",
    "Yl = df82.bank_account\n",
    "\n",
    "x_trainl, x_vall, y_trainl, y_vall = train_test_split(Xl, Yl, test_size=.1)"
   ]
  },
  {
   "cell_type": "code",
   "execution_count": null,
   "id": "29e207b2",
   "metadata": {
    "hidden": true
   },
   "outputs": [],
   "source": [
    "#r = {0: 10077, 1: 1685}\n",
    "r = {0: 10077, 1: 7685}"
   ]
  },
  {
   "cell_type": "markdown",
   "id": "91687dc8",
   "metadata": {
    "hidden": true
   },
   "source": [
    "## <font color=\"red\">8.1. Smoteen </font>"
   ]
  },
  {
   "cell_type": "markdown",
   "id": "ac702d0c",
   "metadata": {
    "hidden": true
   },
   "source": [
    "### 8.1.1. Full Dataset"
   ]
  },
  {
   "cell_type": "code",
   "execution_count": null,
   "id": "77a9614a",
   "metadata": {
    "hidden": true
   },
   "outputs": [],
   "source": [
    "sn = SMOTEENN(sampling_strategy=r, n_jobs=-1)\n",
    "x_sn, y_sn = sn.fit_resample(x_train, y_train)"
   ]
  },
  {
   "cell_type": "code",
   "execution_count": null,
   "id": "419b8f2a",
   "metadata": {
    "hidden": true
   },
   "outputs": [],
   "source": [
    "y_sn.value_counts().to_dict()"
   ]
  },
  {
   "cell_type": "code",
   "execution_count": null,
   "id": "35e3e6db",
   "metadata": {
    "hidden": true
   },
   "outputs": [],
   "source": [
    "df_sn = pd.concat([x_sn, y_sn], axis=1)\n",
    "df_sn.head()"
   ]
  },
  {
   "cell_type": "markdown",
   "id": "39fe37d5",
   "metadata": {
    "heading_collapsed": true,
    "hidden": true
   },
   "source": [
    "### 8.1.2. Lower Dataset"
   ]
  },
  {
   "cell_type": "code",
   "execution_count": null,
   "id": "7a70f500",
   "metadata": {
    "hidden": true
   },
   "outputs": [],
   "source": [
    "sn = SMOTEENN(sampling_strategy=r, n_jobs=-1)\n",
    "x_snl, y_snl = sn.fit_resample(x_trainl, y_trainl)"
   ]
  },
  {
   "cell_type": "code",
   "execution_count": null,
   "id": "b1587903",
   "metadata": {
    "hidden": true
   },
   "outputs": [],
   "source": [
    "y_snl.value_counts().to_dict()"
   ]
  },
  {
   "cell_type": "code",
   "execution_count": null,
   "id": "119e9dc8",
   "metadata": {
    "hidden": true
   },
   "outputs": [],
   "source": [
    "df_snl = pd.concat([x_snl, y_snl], axis=1)\n",
    "df_snl.head()"
   ]
  },
  {
   "cell_type": "markdown",
   "id": "d3322cec",
   "metadata": {
    "heading_collapsed": true,
    "hidden": true
   },
   "source": [
    "## <font color=\"red\">8.2. Smotetomek </font>"
   ]
  },
  {
   "cell_type": "markdown",
   "id": "a7ed89ea",
   "metadata": {
    "heading_collapsed": true,
    "hidden": true
   },
   "source": [
    "### 8.2.1. Full Dataset"
   ]
  },
  {
   "cell_type": "code",
   "execution_count": null,
   "id": "6af15f9d",
   "metadata": {
    "hidden": true
   },
   "outputs": [],
   "source": [
    "sk = SMOTETomek(sampling_strategy=r, n_jobs=-1)\n",
    "x_sk, y_sk = sk.fit_resample(x_train, y_train)"
   ]
  },
  {
   "cell_type": "code",
   "execution_count": null,
   "id": "0423d126",
   "metadata": {
    "hidden": true
   },
   "outputs": [],
   "source": [
    "y_sk.value_counts().to_dict()"
   ]
  },
  {
   "cell_type": "code",
   "execution_count": null,
   "id": "76f55b2c",
   "metadata": {
    "hidden": true,
    "scrolled": true
   },
   "outputs": [],
   "source": [
    "df_sk = pd.concat([x_sk, y_sk], axis=1)\n",
    "df_sk.head()"
   ]
  },
  {
   "cell_type": "markdown",
   "id": "9aff4ff8",
   "metadata": {
    "heading_collapsed": true,
    "hidden": true
   },
   "source": [
    "### 8.2.2. Lower Dataset"
   ]
  },
  {
   "cell_type": "code",
   "execution_count": null,
   "id": "155c43cd",
   "metadata": {
    "hidden": true
   },
   "outputs": [],
   "source": [
    "sk = SMOTETomek(sampling_strategy=r, n_jobs=-1)\n",
    "x_skl, y_skl = sk.fit_resample(x_trainl, y_trainl)"
   ]
  },
  {
   "cell_type": "code",
   "execution_count": null,
   "id": "dadfb0fc",
   "metadata": {
    "hidden": true
   },
   "outputs": [],
   "source": [
    "y_skl.value_counts().to_dict()"
   ]
  },
  {
   "cell_type": "code",
   "execution_count": null,
   "id": "c0e2bd94",
   "metadata": {
    "hidden": true,
    "scrolled": true
   },
   "outputs": [],
   "source": [
    "df_skl = pd.concat([x_skl, y_skl], axis=1)\n",
    "df_skl.head()"
   ]
  },
  {
   "cell_type": "markdown",
   "id": "230412dc",
   "metadata": {
    "heading_collapsed": true,
    "hidden": true
   },
   "source": [
    "## <font color=\"red\">8.3. Test Models</font> "
   ]
  },
  {
   "cell_type": "markdown",
   "id": "4773b250",
   "metadata": {
    "heading_collapsed": true,
    "hidden": true
   },
   "source": [
    "### <font color=\"red\"> 8.3.1. XGBoost Model </font>"
   ]
  },
  {
   "cell_type": "code",
   "execution_count": null,
   "id": "69486b16",
   "metadata": {
    "hidden": true
   },
   "outputs": [],
   "source": [
    "xg = XGBClassifier(n_jobs=-1).fit(x_sn, y_sn)\n",
    "\n",
    "yhat_xg = xg.predict(x_val)\n",
    "\n",
    "ml_error(type(xg).__name__, y_val, yhat_xg)"
   ]
  },
  {
   "cell_type": "code",
   "execution_count": null,
   "id": "e83996a5",
   "metadata": {
    "hidden": true
   },
   "outputs": [],
   "source": [
    "clf_name = 'xgbclassifier'\n",
    "\n",
    "params = {}\n",
    "params[f'{clf_name}__learning_rate']    = [0.1, 0.2]\n",
    "params[f'{clf_name}__min_child_weight'] = [5, 6]\n",
    "params[f'{clf_name}__gamma']            = [1.]\n",
    "params[f'{clf_name}__subsample']        = [0.9, 1., 1.1]\n",
    "params[f'{clf_name}__colsample_bytree'] = [1.0]\n",
    "params[f'{clf_name}__max_depth']        = [3, 4]"
   ]
  },
  {
   "cell_type": "code",
   "execution_count": null,
   "id": "9125694d",
   "metadata": {
    "hidden": true
   },
   "outputs": [],
   "source": [
    "grid = GridSearchCV(XGBClassifier(n_jobs=-1), params, cv=10, n_jobs=-1, scoring='f1_micro')\n",
    "grid.fit(x_sn, y_sn)\n",
    "\n",
    "print(grid.best_params_)"
   ]
  },
  {
   "cell_type": "code",
   "execution_count": null,
   "id": "9e308409",
   "metadata": {
    "hidden": true
   },
   "outputs": [],
   "source": [
    "xg = grid.best_estimator_\n",
    "\n",
    "yhat2 = xg.predict(x_val)"
   ]
  },
  {
   "cell_type": "code",
   "execution_count": null,
   "id": "f1e66f41",
   "metadata": {
    "hidden": true
   },
   "outputs": [],
   "source": [
    "ml_error(\"XGBoost Tuned\", y_val, yhat2)"
   ]
  },
  {
   "cell_type": "markdown",
   "id": "7b106ad9",
   "metadata": {
    "hidden": true
   },
   "source": [
    "### Send Sub"
   ]
  },
  {
   "cell_type": "code",
   "execution_count": 24,
   "id": "264e10c2",
   "metadata": {
    "hidden": true
   },
   "outputs": [
    {
     "ename": "ValueError",
     "evalue": "Feature shape mismatch, expected: 8, got 12",
     "output_type": "error",
     "traceback": [
      "\u001b[1;31m---------------------------------------------------------------------------\u001b[0m",
      "\u001b[1;31mValueError\u001b[0m                                Traceback (most recent call last)",
      "Input \u001b[1;32mIn [24]\u001b[0m, in \u001b[0;36m<cell line: 1>\u001b[1;34m()\u001b[0m\n\u001b[1;32m----> 1\u001b[0m yhat_sub \u001b[38;5;241m=\u001b[39m \u001b[43mxg\u001b[49m\u001b[38;5;241;43m.\u001b[39;49m\u001b[43mpredict\u001b[49m\u001b[43m(\u001b[49m\u001b[43mdf_test2\u001b[49m\u001b[43m)\u001b[49m\n",
      "File \u001b[1;32m~\\.AArep\\Hackday-Africa\\lib\\site-packages\\xgboost\\sklearn.py:1434\u001b[0m, in \u001b[0;36mXGBClassifier.predict\u001b[1;34m(self, X, output_margin, ntree_limit, validate_features, base_margin, iteration_range)\u001b[0m\n\u001b[0;32m   1425\u001b[0m \u001b[38;5;28;01mdef\u001b[39;00m \u001b[38;5;21mpredict\u001b[39m(\n\u001b[0;32m   1426\u001b[0m     \u001b[38;5;28mself\u001b[39m,\n\u001b[0;32m   1427\u001b[0m     X: ArrayLike,\n\u001b[1;32m   (...)\u001b[0m\n\u001b[0;32m   1432\u001b[0m     iteration_range: Optional[Tuple[\u001b[38;5;28mint\u001b[39m, \u001b[38;5;28mint\u001b[39m]] \u001b[38;5;241m=\u001b[39m \u001b[38;5;28;01mNone\u001b[39;00m,\n\u001b[0;32m   1433\u001b[0m ) \u001b[38;5;241m-\u001b[39m\u001b[38;5;241m>\u001b[39m np\u001b[38;5;241m.\u001b[39mndarray:\n\u001b[1;32m-> 1434\u001b[0m     class_probs \u001b[38;5;241m=\u001b[39m \u001b[38;5;28;43msuper\u001b[39;49m\u001b[43m(\u001b[49m\u001b[43m)\u001b[49m\u001b[38;5;241;43m.\u001b[39;49m\u001b[43mpredict\u001b[49m\u001b[43m(\u001b[49m\n\u001b[0;32m   1435\u001b[0m \u001b[43m        \u001b[49m\u001b[43mX\u001b[49m\u001b[38;5;241;43m=\u001b[39;49m\u001b[43mX\u001b[49m\u001b[43m,\u001b[49m\n\u001b[0;32m   1436\u001b[0m \u001b[43m        \u001b[49m\u001b[43moutput_margin\u001b[49m\u001b[38;5;241;43m=\u001b[39;49m\u001b[43moutput_margin\u001b[49m\u001b[43m,\u001b[49m\n\u001b[0;32m   1437\u001b[0m \u001b[43m        \u001b[49m\u001b[43mntree_limit\u001b[49m\u001b[38;5;241;43m=\u001b[39;49m\u001b[43mntree_limit\u001b[49m\u001b[43m,\u001b[49m\n\u001b[0;32m   1438\u001b[0m \u001b[43m        \u001b[49m\u001b[43mvalidate_features\u001b[49m\u001b[38;5;241;43m=\u001b[39;49m\u001b[43mvalidate_features\u001b[49m\u001b[43m,\u001b[49m\n\u001b[0;32m   1439\u001b[0m \u001b[43m        \u001b[49m\u001b[43mbase_margin\u001b[49m\u001b[38;5;241;43m=\u001b[39;49m\u001b[43mbase_margin\u001b[49m\u001b[43m,\u001b[49m\n\u001b[0;32m   1440\u001b[0m \u001b[43m        \u001b[49m\u001b[43miteration_range\u001b[49m\u001b[38;5;241;43m=\u001b[39;49m\u001b[43miteration_range\u001b[49m\u001b[43m,\u001b[49m\n\u001b[0;32m   1441\u001b[0m \u001b[43m    \u001b[49m\u001b[43m)\u001b[49m\n\u001b[0;32m   1442\u001b[0m     \u001b[38;5;28;01mif\u001b[39;00m output_margin:\n\u001b[0;32m   1443\u001b[0m         \u001b[38;5;66;03m# If output_margin is active, simply return the scores\u001b[39;00m\n\u001b[0;32m   1444\u001b[0m         \u001b[38;5;28;01mreturn\u001b[39;00m class_probs\n",
      "File \u001b[1;32m~\\.AArep\\Hackday-Africa\\lib\\site-packages\\xgboost\\sklearn.py:1049\u001b[0m, in \u001b[0;36mXGBModel.predict\u001b[1;34m(self, X, output_margin, ntree_limit, validate_features, base_margin, iteration_range)\u001b[0m\n\u001b[0;32m   1047\u001b[0m \u001b[38;5;28;01mif\u001b[39;00m \u001b[38;5;28mself\u001b[39m\u001b[38;5;241m.\u001b[39m_can_use_inplace_predict():\n\u001b[0;32m   1048\u001b[0m     \u001b[38;5;28;01mtry\u001b[39;00m:\n\u001b[1;32m-> 1049\u001b[0m         predts \u001b[38;5;241m=\u001b[39m \u001b[38;5;28;43mself\u001b[39;49m\u001b[38;5;241;43m.\u001b[39;49m\u001b[43mget_booster\u001b[49m\u001b[43m(\u001b[49m\u001b[43m)\u001b[49m\u001b[38;5;241;43m.\u001b[39;49m\u001b[43minplace_predict\u001b[49m\u001b[43m(\u001b[49m\n\u001b[0;32m   1050\u001b[0m \u001b[43m            \u001b[49m\u001b[43mdata\u001b[49m\u001b[38;5;241;43m=\u001b[39;49m\u001b[43mX\u001b[49m\u001b[43m,\u001b[49m\n\u001b[0;32m   1051\u001b[0m \u001b[43m            \u001b[49m\u001b[43miteration_range\u001b[49m\u001b[38;5;241;43m=\u001b[39;49m\u001b[43miteration_range\u001b[49m\u001b[43m,\u001b[49m\n\u001b[0;32m   1052\u001b[0m \u001b[43m            \u001b[49m\u001b[43mpredict_type\u001b[49m\u001b[38;5;241;43m=\u001b[39;49m\u001b[38;5;124;43m\"\u001b[39;49m\u001b[38;5;124;43mmargin\u001b[39;49m\u001b[38;5;124;43m\"\u001b[39;49m\u001b[43m \u001b[49m\u001b[38;5;28;43;01mif\u001b[39;49;00m\u001b[43m \u001b[49m\u001b[43moutput_margin\u001b[49m\u001b[43m \u001b[49m\u001b[38;5;28;43;01melse\u001b[39;49;00m\u001b[43m \u001b[49m\u001b[38;5;124;43m\"\u001b[39;49m\u001b[38;5;124;43mvalue\u001b[39;49m\u001b[38;5;124;43m\"\u001b[39;49m\u001b[43m,\u001b[49m\n\u001b[0;32m   1053\u001b[0m \u001b[43m            \u001b[49m\u001b[43mmissing\u001b[49m\u001b[38;5;241;43m=\u001b[39;49m\u001b[38;5;28;43mself\u001b[39;49m\u001b[38;5;241;43m.\u001b[39;49m\u001b[43mmissing\u001b[49m\u001b[43m,\u001b[49m\n\u001b[0;32m   1054\u001b[0m \u001b[43m            \u001b[49m\u001b[43mbase_margin\u001b[49m\u001b[38;5;241;43m=\u001b[39;49m\u001b[43mbase_margin\u001b[49m\u001b[43m,\u001b[49m\n\u001b[0;32m   1055\u001b[0m \u001b[43m            \u001b[49m\u001b[43mvalidate_features\u001b[49m\u001b[38;5;241;43m=\u001b[39;49m\u001b[43mvalidate_features\u001b[49m\u001b[43m,\u001b[49m\n\u001b[0;32m   1056\u001b[0m \u001b[43m        \u001b[49m\u001b[43m)\u001b[49m\n\u001b[0;32m   1057\u001b[0m         \u001b[38;5;28;01mif\u001b[39;00m _is_cupy_array(predts):\n\u001b[0;32m   1058\u001b[0m             \u001b[38;5;28;01mimport\u001b[39;00m \u001b[38;5;21;01mcupy\u001b[39;00m     \u001b[38;5;66;03m# pylint: disable=import-error\u001b[39;00m\n",
      "File \u001b[1;32m~\\.AArep\\Hackday-Africa\\lib\\site-packages\\xgboost\\core.py:2083\u001b[0m, in \u001b[0;36mBooster.inplace_predict\u001b[1;34m(self, data, iteration_range, predict_type, missing, validate_features, base_margin, strict_shape)\u001b[0m\n\u001b[0;32m   2079\u001b[0m         \u001b[38;5;28;01mraise\u001b[39;00m \u001b[38;5;167;01mTypeError\u001b[39;00m(\n\u001b[0;32m   2080\u001b[0m             \u001b[38;5;124m\"\u001b[39m\u001b[38;5;124m`shape` attribute is required when `validate_features` is True.\u001b[39m\u001b[38;5;124m\"\u001b[39m\n\u001b[0;32m   2081\u001b[0m         )\n\u001b[0;32m   2082\u001b[0m     \u001b[38;5;28;01mif\u001b[39;00m \u001b[38;5;28mlen\u001b[39m(data\u001b[38;5;241m.\u001b[39mshape) \u001b[38;5;241m!=\u001b[39m \u001b[38;5;241m1\u001b[39m \u001b[38;5;129;01mand\u001b[39;00m \u001b[38;5;28mself\u001b[39m\u001b[38;5;241m.\u001b[39mnum_features() \u001b[38;5;241m!=\u001b[39m data\u001b[38;5;241m.\u001b[39mshape[\u001b[38;5;241m1\u001b[39m]:\n\u001b[1;32m-> 2083\u001b[0m         \u001b[38;5;28;01mraise\u001b[39;00m \u001b[38;5;167;01mValueError\u001b[39;00m(\n\u001b[0;32m   2084\u001b[0m             \u001b[38;5;124mf\u001b[39m\u001b[38;5;124m\"\u001b[39m\u001b[38;5;124mFeature shape mismatch, expected: \u001b[39m\u001b[38;5;132;01m{\u001b[39;00m\u001b[38;5;28mself\u001b[39m\u001b[38;5;241m.\u001b[39mnum_features()\u001b[38;5;132;01m}\u001b[39;00m\u001b[38;5;124m, \u001b[39m\u001b[38;5;124m\"\u001b[39m\n\u001b[0;32m   2085\u001b[0m             \u001b[38;5;124mf\u001b[39m\u001b[38;5;124m\"\u001b[39m\u001b[38;5;124mgot \u001b[39m\u001b[38;5;132;01m{\u001b[39;00mdata\u001b[38;5;241m.\u001b[39mshape[\u001b[38;5;241m1\u001b[39m]\u001b[38;5;132;01m}\u001b[39;00m\u001b[38;5;124m\"\u001b[39m\n\u001b[0;32m   2086\u001b[0m         )\n\u001b[0;32m   2088\u001b[0m \u001b[38;5;28;01mfrom\u001b[39;00m \u001b[38;5;21;01m.\u001b[39;00m\u001b[38;5;21;01mdata\u001b[39;00m \u001b[38;5;28;01mimport\u001b[39;00m (\n\u001b[0;32m   2089\u001b[0m     _is_pandas_df,\n\u001b[0;32m   2090\u001b[0m     _transform_pandas_df,\n\u001b[1;32m   (...)\u001b[0m\n\u001b[0;32m   2093\u001b[0m     _array_interface,\n\u001b[0;32m   2094\u001b[0m )\n\u001b[0;32m   2095\u001b[0m enable_categorical \u001b[38;5;241m=\u001b[39m _has_categorical(\u001b[38;5;28mself\u001b[39m, data)\n",
      "\u001b[1;31mValueError\u001b[0m: Feature shape mismatch, expected: 8, got 12"
     ]
    }
   ],
   "source": [
    "yhat_sub = xg.predict(df_test2)"
   ]
  },
  {
   "cell_type": "code",
   "execution_count": null,
   "id": "099e4a40",
   "metadata": {
    "hidden": true
   },
   "outputs": [],
   "source": [
    "sub_file = pd.DataFrame()\n",
    "sub_file['uid'] = df_test['uid']\n",
    "sub_file['bank_account'] = yhat_sub\n",
    "sub_file['bank_account'] = sub_file['bank_account'].apply(lambda x: 1 if x == 'Yes' else 'No')\n",
    "\n",
    "sub_file.to_csv('subfil.csv', index=False)"
   ]
  },
  {
   "cell_type": "markdown",
   "id": "5eae4bae",
   "metadata": {
    "heading_collapsed": true,
    "hidden": true
   },
   "source": [
    "### <font color=\"red\"> 8.3.2. Random Forest Model </font>"
   ]
  },
  {
   "cell_type": "code",
   "execution_count": null,
   "id": "049922a6",
   "metadata": {
    "hidden": true
   },
   "outputs": [],
   "source": [
    "xg = RandomForestClassifier(n_jobs=-1).fit(x_sn, y_sn)\n",
    "\n",
    "yhat_xg = xg.predict(x_val)\n",
    "\n",
    "ml_error(type(xg).__name__, y_val, yhat_xg)"
   ]
  },
  {
   "cell_type": "code",
   "execution_count": null,
   "id": "5a519a35",
   "metadata": {
    "hidden": true
   },
   "outputs": [],
   "source": [
    "xg = RandomForestClassifier(n_jobs=-1).fit(x_skl, y_skl)\n",
    "\n",
    "yhat_xg = xg.predict(x_vall)\n",
    "\n",
    "ml_error(type(xg).__name__, y_vall, yhat_xg)"
   ]
  },
  {
   "cell_type": "markdown",
   "id": "e125b98b",
   "metadata": {
    "heading_collapsed": true
   },
   "source": [
    "# 9.0. Embeeding Space "
   ]
  },
  {
   "cell_type": "markdown",
   "id": "f69a2d4b",
   "metadata": {
    "heading_collapsed": true,
    "hidden": true
   },
   "source": [
    "## 9.1. Balanced Dataset"
   ]
  },
  {
   "cell_type": "markdown",
   "id": "e1c22d3d",
   "metadata": {
    "heading_collapsed": true,
    "hidden": true
   },
   "source": [
    "### 9.1.1. PCA Smoteen"
   ]
  },
  {
   "cell_type": "code",
   "execution_count": null,
   "id": "cadbf9d4",
   "metadata": {
    "hidden": true
   },
   "outputs": [],
   "source": [
    "pca = PCA(n_components=x_sn.shape[1])\n",
    "\n",
    "principal_components = pca.fit_transform(x_sn)\n",
    "\n",
    "features = range(pca.n_components_)\n",
    "\n",
    "df_pca = pd.DataFrame(principal_components)\n",
    "df_pca['y'] = y_sn\n",
    "\n",
    "fig, ax = plt.subplots(figsize=(10, 4))\n",
    "ax.bar(features, pca.explained_variance_ratio_, color=\"black\");\n",
    "ax.set_title('Smoteen Dataset Principal Components');"
   ]
  },
  {
   "cell_type": "code",
   "execution_count": null,
   "id": "5f297a74",
   "metadata": {
    "hidden": true
   },
   "outputs": [],
   "source": [
    "fig, ax = plt.subplots(figsize=(5, 5))\n",
    "sns.scatterplot(df_pca[0], df_pca[1], hue=df_pca['y']);"
   ]
  },
  {
   "cell_type": "markdown",
   "id": "03b27633",
   "metadata": {
    "heading_collapsed": true,
    "hidden": true
   },
   "source": [
    "### 9.1.2. PCA Smotetomek"
   ]
  },
  {
   "cell_type": "code",
   "execution_count": null,
   "id": "5a1ffb32",
   "metadata": {
    "hidden": true
   },
   "outputs": [],
   "source": [
    "pca = PCA(n_components=x_sk.shape[1])\n",
    "\n",
    "principal_components = pca.fit_transform(x_sk)\n",
    "\n",
    "features = range(pca.n_components_)\n",
    "\n",
    "df_pca = pd.DataFrame(principal_components)\n",
    "df_pca['y'] = y_sk\n",
    "\n",
    "fig, ax = plt.subplots(figsize=(10, 4))\n",
    "ax.bar(features, pca.explained_variance_ratio_, color=\"black\");\n",
    "ax.set_title('Smoteen Dataset Principal Components');"
   ]
  },
  {
   "cell_type": "code",
   "execution_count": null,
   "id": "a2afb33e",
   "metadata": {
    "hidden": true
   },
   "outputs": [],
   "source": [
    "fig, ax = plt.subplots(figsize=(5, 5))\n",
    "sns.scatterplot(df_pca[0], df_pca[1], hue=df_pca['y']);"
   ]
  },
  {
   "cell_type": "markdown",
   "id": "3bb45869",
   "metadata": {
    "heading_collapsed": true,
    "hidden": true
   },
   "source": [
    "## 9.2. Tree-Based Embeeding"
   ]
  },
  {
   "cell_type": "markdown",
   "id": "0a0958d1",
   "metadata": {
    "heading_collapsed": true,
    "hidden": true
   },
   "source": [
    "### 9.2.1 Smoteen "
   ]
  },
  {
   "cell_type": "code",
   "execution_count": null,
   "id": "7137fcef",
   "metadata": {
    "hidden": true
   },
   "outputs": [],
   "source": [
    "rf_model = RandomForestClassifier(n_jobs=-1)\n",
    "\n",
    "rf_model.fit(x_sn, y_sn)\n",
    "\n",
    "df_leaf = pd.DataFrame(rf_model.apply(x_sn))"
   ]
  },
  {
   "cell_type": "markdown",
   "id": "458bf16a",
   "metadata": {
    "hidden": true
   },
   "source": [
    "#### 9.2.1.1. UMAP"
   ]
  },
  {
   "cell_type": "code",
   "execution_count": null,
   "id": "5d39d57c",
   "metadata": {
    "hidden": true
   },
   "outputs": [],
   "source": [
    "reducer = UMAP(n_components=3, random_state=42)\n",
    "embedding = reducer.fit_transform(df_leaf)\n",
    "\n",
    "df_umap = pd.DataFrame(embedding)\n",
    "df_umap['y'] = y_sn"
   ]
  },
  {
   "cell_type": "code",
   "execution_count": null,
   "id": "97571ca8",
   "metadata": {
    "hidden": true
   },
   "outputs": [],
   "source": [
    "fig, ax = plt.subplots(1, 2, figsize=(10, 5))\n",
    "ax[0].scatter(df_umap[0], df_umap[1])\n",
    "sns.scatterplot(df_umap[0], df_umap[1], hue=df_umap['y']);"
   ]
  },
  {
   "cell_type": "code",
   "execution_count": null,
   "id": "8e2d6068",
   "metadata": {
    "hidden": true
   },
   "outputs": [],
   "source": [
    "df_val_leaf = pd.DataFrame(rf_model.apply(x_val))\n",
    "\n",
    "reducer = UMAP(n_components=3, random_state=42)\n",
    "embeddingl = reducer.fit_transform(df_val_leaf)\n",
    "\n",
    "df_umapl = pd.DataFrame(embeddingl)\n",
    "df_umapl['y'] = y_val.reset_index(drop=True)"
   ]
  },
  {
   "cell_type": "code",
   "execution_count": null,
   "id": "2c23c796",
   "metadata": {
    "hidden": true
   },
   "outputs": [],
   "source": [
    "xgb = XGBClassifier(n_jobs=-1).fit(X=df_umap.iloc[:, :-1], y=df_umap.iloc[:, -1])\n",
    "\n",
    "yhat_xgb = xgb.predict(df_umapl.iloc[:, :-1])\n",
    "\n",
    "ml_error(\"SVC\", df_umapl.iloc[:, -1], yhat_xgb)"
   ]
  },
  {
   "cell_type": "markdown",
   "id": "5a3c71b5",
   "metadata": {
    "heading_collapsed": true,
    "hidden": true
   },
   "source": [
    "#### 9.2.1.2. PCA"
   ]
  },
  {
   "cell_type": "code",
   "execution_count": null,
   "id": "6acd8ebc",
   "metadata": {
    "hidden": true
   },
   "outputs": [],
   "source": [
    "pca = PCA(n_components=df_leaf.shape[1])\n",
    "\n",
    "principal_components = pca.fit_transform(df_leaf)\n",
    "\n",
    "features = range(pca.n_components_)\n",
    "\n",
    "df_pca = pd.DataFrame(principal_components)\n",
    "df_pca['y'] = y_sn\n",
    "\n",
    "fig, ax = plt.subplots(figsize=(10, 4))\n",
    "ax.bar(features, pca.explained_variance_ratio_, color=\"black\");\n",
    "ax.set_title('Smoteen Dataset Principal Components');"
   ]
  },
  {
   "cell_type": "code",
   "execution_count": null,
   "id": "cb4c4369",
   "metadata": {
    "hidden": true
   },
   "outputs": [],
   "source": [
    "fig, ax = plt.subplots(figsize=(5, 5))\n",
    "sns.scatterplot(df_pca[0], df_pca[1], hue=df_pca['y']);"
   ]
  },
  {
   "cell_type": "code",
   "execution_count": null,
   "id": "6c8e4792",
   "metadata": {
    "hidden": true
   },
   "outputs": [],
   "source": [
    "df_val = pd.DataFrame(rf_model.apply(x_val))"
   ]
  },
  {
   "cell_type": "code",
   "execution_count": null,
   "id": "00f8814c",
   "metadata": {
    "hidden": true
   },
   "outputs": [],
   "source": [
    "principal_components = pca.fit_transform(df_val)\n",
    "\n",
    "features = range(pca.n_components_)\n",
    "\n",
    "df_pcav = pd.DataFrame(principal_components)\n",
    "df_pcav['y'] = y_val.reset_index(drop=True)"
   ]
  },
  {
   "cell_type": "code",
   "execution_count": null,
   "id": "245c13c0",
   "metadata": {
    "hidden": true
   },
   "outputs": [],
   "source": [
    "xgb = XGBClassifier(n_jobs=-1).fit(X=df_pca.iloc[:, :4], y=df_pca.loc[:, \"y\"])\n",
    "\n",
    "yhat_svc = xgb.predict(df_pcav.iloc[:, :4])\n",
    "\n",
    "ml_error(\"XGB\", df_pcav.loc[:, \"y\"], yhat_svc)"
   ]
  },
  {
   "cell_type": "code",
   "execution_count": null,
   "id": "6425e915",
   "metadata": {
    "hidden": true,
    "scrolled": false
   },
   "outputs": [],
   "source": [
    "xgb = SVC(max_iter=150, ).fit(X=df_pca.iloc[:, :4], y=df_pca.loc[:, \"y\"])\n",
    "\n",
    "yhat_svc = xgb.predict(df_pcav.iloc[:, :4])\n",
    "\n",
    "ml_error(\"XGB\", df_pcav.loc[:, \"y\"], yhat_svc)"
   ]
  },
  {
   "cell_type": "markdown",
   "id": "c9cb814c",
   "metadata": {
    "heading_collapsed": true,
    "hidden": true
   },
   "source": [
    "### 9.2.2. Smotetomek"
   ]
  },
  {
   "cell_type": "code",
   "execution_count": null,
   "id": "46cfb2fc",
   "metadata": {
    "hidden": true
   },
   "outputs": [],
   "source": [
    "rf_model = RandomForestClassifier(n_jobs=-1)\n",
    "\n",
    "rf_model.fit(x_sk, y_sk)\n",
    "\n",
    "df_leaf = pd.DataFrame(rf_model.apply(x_sk))"
   ]
  },
  {
   "cell_type": "code",
   "execution_count": null,
   "id": "9ba20992",
   "metadata": {
    "hidden": true
   },
   "outputs": [],
   "source": [
    "reducer = UMAP(n_components=3, random_state=42)\n",
    "embedding = reducer.fit_transform(df_leaf)\n",
    "\n",
    "df_umap = pd.DataFrame(embedding)\n",
    "df_umap['y'] = y_sk"
   ]
  },
  {
   "cell_type": "code",
   "execution_count": null,
   "id": "6f247898",
   "metadata": {
    "hidden": true,
    "scrolled": true
   },
   "outputs": [],
   "source": [
    "fig, ax = plt.subplots(1, 2, figsize=(10, 5))\n",
    "ax[0].scatter(df_umap[0], df_umap[1])\n",
    "sns.scatterplot(df_umap[0], df_umap[1], hue=df_umap['y']);"
   ]
  },
  {
   "cell_type": "code",
   "execution_count": null,
   "id": "2ea0700f",
   "metadata": {
    "hidden": true
   },
   "outputs": [],
   "source": [
    "df_val_leaf = pd.DataFrame(rf_model.apply(x_val))\n",
    "\n",
    "reducer = UMAP(n_components=3, random_state=42)\n",
    "embeddingl = reducer.fit_transform(df_val_leaf)\n",
    "\n",
    "df_umapl = pd.DataFrame(embeddingl)\n",
    "df_umapl['y'] = y_val.reset_index(drop=True)"
   ]
  },
  {
   "cell_type": "code",
   "execution_count": null,
   "id": "6dceb3c3",
   "metadata": {
    "hidden": true
   },
   "outputs": [],
   "source": [
    "pca = PCA(n_components=df_leaf.shape[1])\n",
    "\n",
    "principal_components = pca.fit_transform(df_leaf)\n",
    "\n",
    "features = range(pca.n_components_)\n",
    "\n",
    "df_pca = pd.DataFrame(principal_components)\n",
    "df_pca['y'] = y_sk\n",
    "\n",
    "fig, ax = plt.subplots(figsize=(10, 4))\n",
    "ax.bar(features, pca.explained_variance_ratio_, color=\"black\");\n",
    "ax.set_title('Smoteen Dataset Principal Components');"
   ]
  },
  {
   "cell_type": "code",
   "execution_count": null,
   "id": "d75e7035",
   "metadata": {
    "hidden": true,
    "scrolled": true
   },
   "outputs": [],
   "source": [
    "fig, ax = plt.subplots(figsize=(5, 5))\n",
    "sns.scatterplot(df_pca[0], df_pca[1], hue=df_pca['y']);"
   ]
  },
  {
   "cell_type": "code",
   "execution_count": null,
   "id": "d82784ec",
   "metadata": {
    "hidden": true
   },
   "outputs": [],
   "source": [
    "df_val = pd.DataFrame(rf_model.apply(x_val))"
   ]
  },
  {
   "cell_type": "code",
   "execution_count": null,
   "id": "ba9932c4",
   "metadata": {
    "hidden": true
   },
   "outputs": [],
   "source": [
    "principal_components = pca.fit_transform(df_val)\n",
    "\n",
    "features = range(pca.n_components_)\n",
    "\n",
    "df_pcav = pd.DataFrame(principal_components)\n",
    "df_pcav['y'] = y_val.reset_index(drop=True)"
   ]
  },
  {
   "cell_type": "code",
   "execution_count": null,
   "id": "bc7f0c54",
   "metadata": {
    "hidden": true
   },
   "outputs": [],
   "source": [
    "xgb = XGBClassifier(n_jobs=-1).fit(X=df_pca.iloc[:, :3], y=df_pca.loc[:, \"y\"])\n",
    "\n",
    "yhat_svc = xgb.predict(df_pcav.iloc[:, :3])\n",
    "\n",
    "ml_error(\"XGB\", df_pcav.loc[:, \"y\"], yhat_svc)"
   ]
  },
  {
   "cell_type": "code",
   "execution_count": 25,
   "id": "a1dff2e6",
   "metadata": {
    "hidden": true
   },
   "outputs": [
    {
     "ename": "NameError",
     "evalue": "name 'df_pca' is not defined",
     "output_type": "error",
     "traceback": [
      "\u001b[1;31m---------------------------------------------------------------------------\u001b[0m",
      "\u001b[1;31mNameError\u001b[0m                                 Traceback (most recent call last)",
      "Input \u001b[1;32mIn [25]\u001b[0m, in \u001b[0;36m<cell line: 1>\u001b[1;34m()\u001b[0m\n\u001b[1;32m----> 1\u001b[0m xgb \u001b[38;5;241m=\u001b[39m SVC(max_iter\u001b[38;5;241m=\u001b[39m\u001b[38;5;241m3000\u001b[39m, )\u001b[38;5;241m.\u001b[39mfit(X\u001b[38;5;241m=\u001b[39m\u001b[43mdf_pca\u001b[49m\u001b[38;5;241m.\u001b[39miloc[:, :\u001b[38;5;241m3\u001b[39m], y\u001b[38;5;241m=\u001b[39mdf_pca\u001b[38;5;241m.\u001b[39mloc[:, \u001b[38;5;124m\"\u001b[39m\u001b[38;5;124my\u001b[39m\u001b[38;5;124m\"\u001b[39m])\n\u001b[0;32m      3\u001b[0m yhat_svc \u001b[38;5;241m=\u001b[39m xgb\u001b[38;5;241m.\u001b[39mpredict(df_pcav\u001b[38;5;241m.\u001b[39miloc[:, :\u001b[38;5;241m3\u001b[39m])\n\u001b[0;32m      5\u001b[0m ml_error(\u001b[38;5;124m\"\u001b[39m\u001b[38;5;124mXGB\u001b[39m\u001b[38;5;124m\"\u001b[39m, df_pcav\u001b[38;5;241m.\u001b[39mloc[:, \u001b[38;5;124m\"\u001b[39m\u001b[38;5;124my\u001b[39m\u001b[38;5;124m\"\u001b[39m], yhat_svc)\n",
      "\u001b[1;31mNameError\u001b[0m: name 'df_pca' is not defined"
     ]
    }
   ],
   "source": [
    "xgb = SVC(max_iter=3000, ).fit(X=df_pca.iloc[:, :3], y=df_pca.loc[:, \"y\"])\n",
    "\n",
    "yhat_svc = xgb.predict(df_pcav.iloc[:, :3])\n",
    "\n",
    "ml_error(\"XGB\", df_pcav.loc[:, \"y\"], yhat_svc)"
   ]
  }
 ],
 "metadata": {
  "hide_input": false,
  "kernelspec": {
   "display_name": "Python 3 (ipykernel)",
   "language": "python",
   "name": "python3"
  },
  "language_info": {
   "codemirror_mode": {
    "name": "ipython",
    "version": 3
   },
   "file_extension": ".py",
   "mimetype": "text/x-python",
   "name": "python",
   "nbconvert_exporter": "python",
   "pygments_lexer": "ipython3",
   "version": "3.9.5"
  },
  "varInspector": {
   "cols": {
    "lenName": 16,
    "lenType": 16,
    "lenVar": 40
   },
   "kernels_config": {
    "python": {
     "delete_cmd_postfix": "",
     "delete_cmd_prefix": "del ",
     "library": "var_list.py",
     "varRefreshCmd": "print(var_dic_list())"
    },
    "r": {
     "delete_cmd_postfix": ") ",
     "delete_cmd_prefix": "rm(",
     "library": "var_list.r",
     "varRefreshCmd": "cat(var_dic_list()) "
    }
   },
   "types_to_exclude": [
    "module",
    "function",
    "builtin_function_or_method",
    "instance",
    "_Feature"
   ],
   "window_display": false
  }
 },
 "nbformat": 4,
 "nbformat_minor": 5
}
